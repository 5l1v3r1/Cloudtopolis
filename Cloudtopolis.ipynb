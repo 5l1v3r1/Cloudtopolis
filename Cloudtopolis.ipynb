{
  "nbformat": 4,
  "nbformat_minor": 0,
  "metadata": {
    "colab": {
      "name": "Cloudtopolis.ipynb",
      "provenance": [],
      "collapsed_sections": []
    },
    "kernelspec": {
      "name": "python3",
      "display_name": "Python 3"
    },
    "accelerator": "GPU"
  },
  "cells": [
    {
      "cell_type": "code",
      "metadata": {
        "id": "cl0udt0p0l1s",
        "colab_type": "code",
        "colab": {}
      },
      "source": [
        "#######################################\n",
        "#   Cloudtopolis v1.0 by @JoelGMSec   #\n",
        "#        https://darkbyte.net         #\n",
        "#######################################\n",
        "\n",
        "# Requeriments\n",
        "User=''\n",
        "IP=''\n",
        "Voucher=''\n",
        "\n",
        "# Checking GPU\n",
        "!echo -e \"\\e[0m\"\n",
        "!echo -e \"\\e[32;1m [+] Checking GPU..\"\n",
        "!echo -e \"\\e[0m\"\n",
        "!apt-get install pciutils -y\n",
        "!lspci\n",
        "\n",
        "# Installing hashcat\n",
        "!echo -e \"\\e[0m\"\n",
        "!echo -e \"\\e[32;1m [+] Installing hashcat..\"\n",
        "!echo -e \"\\e[0m\"\n",
        "!apt install cmake build-essential -y\n",
        "!apt install checkinstall git -y\n",
        "!git clone https://github.com/hashcat/hashcat.git && cd hashcat && make -j 8 && make install\n",
        "\n",
        "# Connecting with hashtopolis\n",
        "!echo -e \"\\e[0m\"\n",
        "!echo -e \"\\e[32;1m [+] Connecting with hashtopolis..\"\n",
        "!echo -e \"\\e[0m\"\n",
        "!apt install sshpass -y\n",
        "!sshpass -p Cl0udt0p0l1s! ssh -o StrictHostKeyChecking=no -o UserKnownHostsFile=/dev/null -fN -L 1337:localhost:8000 $User@$IP -p 6000 > /dev/null 2>&1 & \n",
        "\n",
        "# Download and run agent\n",
        "!echo -e \"\\e[0m\"\n",
        "!echo -e \"\\e[32;1m [+] Connecting with hashtopolis..\"\n",
        "!echo -e \"\\e[0m\"\n",
        "!wget http://localhost:1337/agents.php?download=1\n",
        "!mv 'agents.php?download=1' hashtopolis.zip\n",
        "!python3 hashtopolis.zip --url http://localhost:1337/api/server.php --voucher $Voucher\n"
      ],
      "execution_count": null,
      "outputs": []
    }
  ]
}