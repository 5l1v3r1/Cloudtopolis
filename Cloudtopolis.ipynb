{
  "nbformat": 4,
  "nbformat_minor": 0,
  "metadata": {
    "colab": {
      "name": "Cloudtopolis.ipynb",
      "provenance": [],
      "collapsed_sections": []
    },
    "kernelspec": {
      "name": "python3",
      "display_name": "Python 3"
    },
    "accelerator": "GPU"
  },
  "cells": [
    {
      "cell_type": "code",
      "metadata": {
        "id": "cl0udt0p0l1s",
        "colab_type": "code",
        "colab": {}
      },
      "source": [
        "#######################################\n",
        "#   Cloudtopolis v2.0 by @JoelGMSec   #\n",
        "#        https://darkbyte.net         #\n",
        "#######################################\n",
        "\n",
        "# Requeriments\n",
        "User=''\n",
        "IP=''\n",
        "Voucher=''\n",
        "\n",
        "# Checking GPU\n",
        "!echo -e \"\\e[0m\"\n",
        "!echo -e \"\\e[32;1m [+] Checking GPU..\"\n",
        "!echo -e \"\\e[0m\"\n",
        "!apt-get install pciutils -y -qq > /dev/null\n",
        "!lspci | grep NVIDIA\n",
        "\n",
        "# Connecting with hashtopolis\n",
        "!echo -e \"\\e[0m\"\n",
        "!echo -e \"\\e[32;1m [+] Connecting with hashtopolis..\"\n",
        "!echo -e \"\\e[0m\"\n",
        "!apt install sshpass -y -qq > /dev/null\n",
        "!sshpass -p Cl0udt0p0l1s! ssh -o StrictHostKeyChecking=no -o UserKnownHostsFile=/dev/null -fN -L 1337:localhost:8000 $User@$IP -p 6000 > /dev/null 2>&1 & \n",
        "\n",
        "# Download and run agent\n",
        "!echo -e \"\\e[0m\"\n",
        "!echo -e \"\\e[32;1m [+] Download and run agent..\"\n",
        "!echo -e \"\\e[0m\"\n",
        "!wget --quiet http://localhost:1337/agents.php?download=1\n",
        "!mv 'agents.php?download=1' hashtopolis.zip\n",
        "!python3 hashtopolis.zip --url http://localhost:1337/api/server.php --voucher $Voucher\n"
      ],
      "execution_count": null,
      "outputs": []
    }
  ]
}
